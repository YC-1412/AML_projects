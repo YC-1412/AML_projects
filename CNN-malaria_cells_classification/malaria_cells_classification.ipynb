{
  "nbformat": 4,
  "nbformat_minor": 0,
  "metadata": {
    "colab": {
      "name": "malaria_cells_classification.ipynb",
      "provenance": [],
      "collapsed_sections": [],
      "machine_shape": "hm"
    },
    "kernelspec": {
      "name": "python3",
      "display_name": "Python 3"
    },
    "accelerator": "GPU"
  },
  "cells": [
    {
      "cell_type": "markdown",
      "metadata": {
        "id": "0dHJyDxVJw_d"
      },
      "source": [
        "# Malaria Cells Classification Using CNN \n",
        "Last editing date: 2020.09.28. [GitHub](https://github.com/YC-1412/AML_projects/tree/master/CNN-malaria_cells_classification)\n",
        "\n",
        "This sample shows a classification of Malaria cells using CNN. It is modified from a homework I did with one of my classmates (Bo Jumrustanasan) on the course COMS 4995 Applied Machine Learning by Dr. Andreas C. Müller at Columbia University. The dataset is [Malaria Dataset](https://lhncbc.nlm.nih.gov/publication/pub9932). The sample includes the following work:\n",
        "1. data preparation: downloading, resizing, train_test_split\n",
        "2. data agumentation\n",
        "3. CNN building and training\n",
        "4. model evaluation"
      ]
    },
    {
      "cell_type": "markdown",
      "metadata": {
        "id": "ScPwTSXPJ_iR"
      },
      "source": [
        "## 1. Data Preparation\n",
        "### 1.1 Load Packages and Data"
      ]
    },
    {
      "cell_type": "code",
      "metadata": {
        "id": "hE3-AXG-WVMC"
      },
      "source": [
        "import numpy as np\n",
        "import pandas as pd\n",
        "import matplotlib.pyplot as plt\n",
        "%matplotlib inline \n",
        "\n",
        "import os\n",
        "import imageio\n",
        "from random import shuffle\n",
        "import pickle\n",
        "\n",
        "from keras.layers import Input, Conv2D, MaxPooling2D, Flatten, Dense, \\\n",
        "            Activation, BatchNormalization\n",
        "from keras.models import Model\n",
        "from keras import utils"
      ],
      "execution_count": null,
      "outputs": []
    },
    {
      "cell_type": "code",
      "metadata": {
        "id": "rnWmYttfiKrn"
      },
      "source": [
        "# ## Get the data to the drive\n",
        "! wget ftp://lhcftp.nlm.nih.gov/Open-Access-Datasets/Malaria/cell_images.zip\n",
        "! unzip cell_images.zip"
      ],
      "execution_count": 1,
      "outputs": []
    },
    {
      "cell_type": "code",
      "metadata": {
        "id": "ygA_b9kihRrk"
      },
      "source": [
        "# delete useless files\n",
        "!find . -type f   -wholename \"./cell_images/Uninfected/*.db\"  -delete\n",
        "!find . -type f   -wholename \"./cell_images/Parasitized/*.db\"  -delete"
      ],
      "execution_count": null,
      "outputs": []
    },
    {
      "cell_type": "markdown",
      "metadata": {
        "id": "9d94BVZRKMYN"
      },
      "source": [
        "### 1.2 Resize and Split Data "
      ]
    },
    {
      "cell_type": "markdown",
      "metadata": {
        "id": "RwMnuvroYdd_"
      },
      "source": [
        "To save space, we resized the images to 150 by 150 pixels. One image corresponds to a (150,150,3) matrix. The training data size is 24940. The testing data size is 2754 (10% of the total sample size).\n"
      ]
    },
    {
      "cell_type": "code",
      "metadata": {
        "id": "VmSbWBr8zgzs"
      },
      "source": [
        "def resize_image(image_array, image_height, image_width):\n",
        "  '''\n",
        "  resize image by chopping or padding\n",
        "  Args:\n",
        "    image_array: image matrix\n",
        "    image_height, image_width: wanted size\n",
        "  Return:\n",
        "    processed_image: processed image of wanted size  \n",
        "  '''\n",
        "  # resize the image, if larger chop, if smaller stay same\n",
        "  resize_image = image_array[:image_height, :image_width, :]\n",
        "  original_size = resize_image.shape\n",
        "  # pad image if smaller than the size\n",
        "  processed_image = np.pad(resize_image, ((0, image_height - original_size[0]),\n",
        "                                          (0, image_width - original_size[1]),\n",
        "                                          (0, 0)), \n",
        "                                       'constant', constant_values=0)\n",
        "  return processed_image"
      ],
      "execution_count": null,
      "outputs": []
    },
    {
      "cell_type": "code",
      "metadata": {
        "id": "nZtT0B_66VHU"
      },
      "source": [
        "path_unin='./cell_images/Uninfected/'\n",
        "path_in='./cell_images/Parasitized/'\n",
        "lists_unin = os.listdir(path_unin)\n",
        "lists_in = os.listdir(path_in)\n",
        "\n",
        "image_height = 150\n",
        "image_width = 150\n",
        "\n",
        "uninfected_list = []\n",
        "infected_list = []\n",
        "original_list = [] ##\n",
        "for i in range(len(lists_unin)):\n",
        "    file_path = lists_unin[i]\n",
        "    im = imageio.imread(os.path.join(path_unin, file_path))\n",
        "    original_list.append(im) ##\n",
        "    uninfected_list.append((resize_image(im, image_height, image_width), 0))\n",
        "\n",
        "for i in range(len(lists_in)):\n",
        "    file_path = lists_in[i]\n",
        "    im = imageio.imread(os.path.join(path_in, file_path))\n",
        "    original_list.append(im) ##\n",
        "    infected_list.append((resize_image(im, image_height, image_width), 1))"
      ],
      "execution_count": null,
      "outputs": []
    },
    {
      "cell_type": "code",
      "metadata": {
        "id": "-gegYRQW_BW8",
        "outputId": "d9e60c4c-6c19-4b52-91e7-2339a5f841c7",
        "colab": {
          "base_uri": "https://localhost:8080/",
          "height": 204
        }
      },
      "source": [
        "fig,ax = plt.subplots(1,2)\n",
        "ax[0].imshow(uninfected_list[0][0]);\n",
        "ax[1].imshow(infected_list[0][0]);"
      ],
      "execution_count": null,
      "outputs": [
        {
          "output_type": "display_data",
          "data": {
            "image/png": "[encoded data removed]",
            "text/plain": [
              "<Figure size 432x288 with 2 Axes>"
            ]
          },
          "metadata": {
            "tags": [],
            "needs_background": "light"
          }
        }
      ]
    },
    {
      "cell_type": "code",
      "metadata": {
        "id": "D4SXSGQt3uLT"
      },
      "source": [
        "def train_test_split(class_0_list, class_1_list, test_split=0.1):\n",
        "\n",
        "    #' class_0_list and class_0_list are lists of ordered paris whose\n",
        "    #' first element is an image and the second is either 0 or 1.\n",
        "\n",
        "    ## Shuffle elements in the lists\n",
        "    shuffle(class_0_list)\n",
        "    shuffle(class_1_list)\n",
        "\n",
        "    ## Get indices for train and test sets\n",
        "    total_class_0 = len(class_0_list)\n",
        "    index_test = np.random.randint(0, total_class_0, \n",
        "                                   int(total_class_0*test_split))\n",
        "    index_train = list(set(range(total_class_0)) - set(index_test))\n",
        "\n",
        "    ## Get images for train and test sets using the indices and shuffle\n",
        "    train_list = [class_0_list[i] for i in index_train] + [class_1_list[i] for i in index_train]\n",
        "    shuffle(train_list)\n",
        "    test_list = [class_0_list[i] for i in index_test] + [class_1_list[i] for i in index_test]\n",
        "    shuffle(test_list)\n",
        "\n",
        "    ## Separate features and targets into matrices\n",
        "    total_train = len(train_list)\n",
        "    total_test = len(test_list)\n",
        "\n",
        "    X_train = np.ndarray((total_train, image_width, image_height, 3), \n",
        "                    dtype=np.uint8)\n",
        "    X_test = np.ndarray((total_test, image_width, image_height, 3), \n",
        "                    dtype=np.uint8)\n",
        "    y_train = np.array([None]*total_train)\n",
        "    y_test = np.array([None]*total_test)\n",
        "\n",
        "    for i in range(len(train_list)):\n",
        "        X_train[i] = train_list[i][0]\n",
        "        y_train[i] = train_list[i][1]\n",
        "\n",
        "    for i in range(len(test_list)):\n",
        "        X_test[i] = test_list[i][0]\n",
        "        y_test[i] = test_list[i][1]\n",
        "\n",
        "    return X_train, X_test, y_train, y_test\n"
      ],
      "execution_count": null,
      "outputs": []
    },
    {
      "cell_type": "code",
      "metadata": {
        "id": "4VvhwRB24G7p"
      },
      "source": [
        "X_train, X_test, \\\n",
        "    y_train, y_test = train_test_split(uninfected_list, infected_list, \n",
        "                                       test_split=0.1)"
      ],
      "execution_count": null,
      "outputs": []
    },
    {
      "cell_type": "code",
      "metadata": {
        "id": "gd1WOkWZ4t6H"
      },
      "source": [
        "# # to save space for future storage\n",
        "# del globals()[\"uninfected_list\"]\n",
        "# del globals()[\"infected_list\"]\n",
        "# del globals()[\"im\"]"
      ],
      "execution_count": null,
      "outputs": []
    },
    {
      "cell_type": "code",
      "metadata": {
        "id": "KnL_bQSwKco_"
      },
      "source": [
        "num_classes = 2\n",
        "\n",
        "y_train = utils.to_categorical(y_train, num_classes)\n",
        "y_test = utils.to_categorical(y_test, num_classes)"
      ],
      "execution_count": null,
      "outputs": []
    },
    {
      "cell_type": "markdown",
      "metadata": {
        "id": "nXwCqOoRK1Rq"
      },
      "source": [
        "## 2. A Convolutional model without residual connections\n"
      ]
    },
    {
      "cell_type": "markdown",
      "metadata": {
        "id": "T4m4HFqcHHki"
      },
      "source": [
        "### 2.1 Data augmentation"
      ]
    },
    {
      "cell_type": "markdown",
      "metadata": {
        "id": "MpK_e5shD9qZ"
      },
      "source": [
        "We centered, standardized, horizontally mirrored, randomly rotated up to 20 degrees, and shifted horizontally and vertically by 20% of the data.\n",
        "\n"
      ]
    },
    {
      "cell_type": "code",
      "metadata": {
        "id": "fL1fBLvhnOED"
      },
      "source": [
        "from keras.preprocessing.image import ImageDataGenerator\n",
        "\n",
        "datagen = ImageDataGenerator(\n",
        "    featurewise_center=True,\n",
        "    featurewise_std_normalization=True,\n",
        "    rotation_range=20,\n",
        "    width_shift_range=0.2,\n",
        "    height_shift_range=0.2,\n",
        "    horizontal_flip=True,\n",
        "    validation_split=0.2)\n",
        "\n",
        "train_generator = datagen.flow(\n",
        "    (X_train,y_train),\n",
        "    batch_size=32,\n",
        "    subset='training')\n",
        "\n",
        "validation_generator = datagen.flow(\n",
        "    (X_train,y_train),\n",
        "    batch_size=32,\n",
        "    subset='validation')"
      ],
      "execution_count": null,
      "outputs": []
    },
    {
      "cell_type": "markdown",
      "metadata": {
        "id": "DnGSfZu1Tk_X"
      },
      "source": [
        "### 2.2 Model building \n",
        "We create a convolutional network with 5 hidden layers (4 convolutional layers and 1 dense layer). Each convolution layer has 32 feature maps (kernel_szie=(3,3)). The dense layer has 64 units. We did batch normalization after each convolution layer to accelerate training and maxpooling (pool_size=(2,2)) after every two convolutional layers.\n",
        "\n",
        "The model is trained for 50 epoches with batch_size=32 and validation_split=0.2. The validation accuracy is about 0.93.\n",
        "\n",
        "\n",
        "Compared with using unaugmented data (validation accuracy is about 0.93, I removed the code because the model is the same), the accuracy of the model using augmented data increases to about 0.94. This tiny improvement is reasonable given the validation accuracy using the original data is alread high."
      ]
    },
    {
      "cell_type": "code",
      "metadata": {
        "id": "NOJayOkFOgwU"
      },
      "source": [
        "## construct the same model as in 3.1\n",
        "model_2_augment = Sequential()\n",
        "model_2_augment.add(Conv2D(32, kernel_size=(3, 3),\n",
        "                 activation='relu',\n",
        "                 input_shape=input_shape))\n",
        "model_2_augment.add(BatchNormalization())\n",
        "model_2_augment.add(Conv2D(32, kernel_size=(3, 3),\n",
        "                 activation='relu',\n",
        "                 input_shape=input_shape))\n",
        "model_2_augment.add(BatchNormalization())\n",
        "model_2_augment.add(MaxPooling2D(pool_size=(2, 2)))\n",
        "model_2_augment.add(Conv2D(32, kernel_size=(3, 3),\n",
        "                 activation='relu',\n",
        "                 input_shape=input_shape))\n",
        "model_2_augment.add(BatchNormalization())\n",
        "model_2_augment.add(Conv2D(32, kernel_size=(3, 3),\n",
        "                 activation='relu',\n",
        "                 input_shape=input_shape))\n",
        "model_2_augment.add(BatchNormalization())\n",
        "model_2_augment.add(MaxPooling2D(pool_size=(2, 2)))\n",
        "model_2_augment.add(Flatten())\n",
        "model_2_augment.add(Dense(64, activation='relu'))\n",
        "model_2_augment.add(Dense(num_classes, activation='softmax'))"
      ],
      "execution_count": null,
      "outputs": []
    },
    {
      "cell_type": "code",
      "metadata": {
        "id": "y40fB27hoIk6"
      },
      "source": [
        "## change parameters\n",
        "model_2_augment.compile(\"adam\", \"categorical_crossentropy\", metrics=['accuracy'])\n",
        "\n",
        "# fits the model on batches with real-time data augmentation:\n",
        "history_2_augmented = model_2_augment.fit_generator(train_generator,\n",
        "                           steps_per_epoch = len(X_train)*0.8 / 32,\n",
        "                           validation_data = validation_generator,\n",
        "                           validation_steps = len(X_train)*0.2 / 32,\n",
        "                           epochs=50)"
      ],
      "execution_count": null,
      "outputs": []
    },
    {
      "cell_type": "code",
      "metadata": {
        "id": "tNynFLhk4i7z",
        "outputId": "7eb2f1f7-b50a-471d-a50a-f86c739e0abd",
        "colab": {
          "base_uri": "https://localhost:8080/",
          "height": 295
        }
      },
      "source": [
        "fig,ax=plt.subplots(1,1)\n",
        "ax.plot(history_2_augmented.history['accuracy'],label='Augmented_training',color='red')\n",
        "ax.plot(history_2_augmented.history['val_accuracy'],label='Augmented_val',color='red',linestyle='dashed')\n",
        "ax.plot(history_1.history['accuracy'],label='Plain_training',color='blue')\n",
        "ax.plot(history_1.history['val_accuracy'],label='Plain_val',color='blue',linestyle='dashed')\n",
        "ax.legend();\n",
        "ax.set_title('Models with/without Augmented data');\n",
        "ax.set_xlabel('iterations');\n",
        "ax.set_ylabel('accuracy');"
      ],
      "execution_count": null,
      "outputs": [
        {
          "output_type": "display_data",
          "data": {
            "image/png": "[encoded data removed]",
            "text/plain": [
              "<Figure size 432x288 with 1 Axes>"
            ]
          },
          "metadata": {
            "tags": [],
            "needs_background": "light"
          }
        }
      ]
    }
  ]
}